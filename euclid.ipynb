a=input()
a=int(a)
b=input()
b=int(b)

def euclid(a,b):
  if(b==0):
    return a
    print(a) 
  else: 
    a,b=b,a%b
    return euclid(a,b)
    print(euclid(a,b))

print(euclid(a,b))
