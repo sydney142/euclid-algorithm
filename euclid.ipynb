{
  "nbformat": 4,
  "nbformat_minor": 0,
  "metadata": {
    "colab": {
      "provenance": [],
      "authorship_tag": "ABX9TyNtpQG17s9OXbIBKi3VMQ2J",
      "include_colab_link": true
    },
    "kernelspec": {
      "name": "python3",
      "display_name": "Python 3"
    },
    "language_info": {
      "name": "python"
    }
  },
  "cells": [
    {
      "cell_type": "markdown",
      "metadata": {
        "id": "view-in-github",
        "colab_type": "text"
      },
      "source": [
        "<a href=\"https://colab.research.google.com/github/sydney142/euclid-algorithm/blob/main/euclid.ipynb\" target=\"_parent\"><img src=\"https://colab.research.google.com/assets/colab-badge.svg\" alt=\"Open In Colab\"/></a>"
      ]
    },
    {
      "cell_type": "code",
      "execution_count": 8,
      "metadata": {
        "colab": {
          "base_uri": "https://localhost:8080/"
        },
        "id": "E5H8CdnumoWI",
        "outputId": "042b25a8-2e2d-4550-ade3-c046ca07b8ae"
      },
      "outputs": [
        {
          "output_type": "stream",
          "name": "stdout",
          "text": [
            "0\n",
            "10\n",
            "10\n"
          ]
        }
      ],
      "source": [
        "a=input()\n",
        "a=int(a)\n",
        "b=input()\n",
        "b=int(b)\n",
        "\n",
        "def euclid(a,b):\n",
        "  if(b==0):\n",
        "    return a\n",
        "    print(a)\n",
        "  elif(a==0):\n",
        "    return b\n",
        "    print(b)\n",
        "  else:\n",
        "    a,b=b,a%b\n",
        "    return euclid(a,b)\n",
        "    print(euclid(a,b))\n",
        "\n",
        "print(euclid(a,b))\n",
        "\n"
      ]
    }
  ]
}