{
  "nbformat": 4,
  "nbformat_minor": 0,
  "metadata": {
    "colab": {
      "provenance": [],
      "authorship_tag": "ABX9TyNZQHePbS+CcezAr7FzsUQ3",
      "include_colab_link": true
    },
    "kernelspec": {
      "name": "python3",
      "display_name": "Python 3"
    },
    "language_info": {
      "name": "python"
    }
  },
  "cells": [
    {
      "cell_type": "markdown",
      "metadata": {
        "id": "view-in-github",
        "colab_type": "text"
      },
      "source": [
        "<a href=\"https://colab.research.google.com/github/sydney142/euclid-algorithm/blob/main/rsa.ipynb\" target=\"_parent\"><img src=\"https://colab.research.google.com/assets/colab-badge.svg\" alt=\"Open In Colab\"/></a>"
      ]
    },
    {
      "cell_type": "code",
      "execution_count": 48,
      "metadata": {
        "id": "8WMiDH5VepRL",
        "colab": {
          "base_uri": "https://localhost:8080/"
        },
        "outputId": "7bea59a2-9cb0-40ad-86b8-73e2a258a15d"
      },
      "outputs": [
        {
          "output_type": "stream",
          "name": "stdout",
          "text": [
            "[948, 2342, 1084, 1444, 2663, 2390, 778, 774, 219, 1655]\n"
          ]
        }
      ],
      "source": [
        "p = 47\n",
        "q = 59\n",
        "n = p*q\n",
        "d = 157\n",
        "totient_n = (p-1)*(q-1)\n",
        "\n",
        "def euclid_extended_algorithm(a,b):\n",
        "  if a==0: # base case\n",
        "    return b,0,1\n",
        "  gcd, x1, y1=euclid_extended_algorithm(b%a,a)\n",
        "  x = y1 - (b//a)*x1\n",
        "  y = x1\n",
        "  return gcd,x,y\n",
        "\n",
        "def encrypt(l):\n",
        "  junk1,junk2,e=euclid_extended_algorithm(2668,157)\n",
        "  for i in range(len(l)):\n",
        "    l[i] = ((l[i])**e)%n\n",
        "  return l\n",
        "\n",
        "def text_function(message):\n",
        "  l=list(message)\n",
        "  for i in range(len(l)):\n",
        "    number = ord(l[i])\n",
        "    if number == 32:\n",
        "        l[i] = '00'\n",
        "    else:\n",
        "        l[i]=f\"{number-96:02}\"\n",
        "  #print(l)\n",
        "  k =[]\n",
        "  if len(l)%2==0:\n",
        "    for j in range(1,len(l), 2):\n",
        "      m = int(str(l[j-1])+str(l[j]))\n",
        "      k.append(m)\n",
        "  elif len(l)%2==1:\n",
        "    for j in range(0,len(l)-1, 2):\n",
        "      m = int(str(l[j])+str(l[j+1]))\n",
        "      k.append(m)\n",
        "    last = int(l[len(l)-1])\n",
        "    k.append(last)\n",
        "    #print(k)\n",
        "  return encrypt(k)\n",
        "\n",
        "message = 'its all greek to me '\n",
        "\n",
        "print(text_function(message))"
      ]
    },
    {
      "cell_type": "code",
      "source": [
        "import math              #for ease of using cos function\n",
        "def func(x):\n",
        "  return math.cos(x)     #the function that we want the\n",
        "                         #third derivative of\n",
        "\n",
        "def approx(s,h):         #s is the point, h is the step size.\n",
        "  a = func(s+h)          #valuing each term\n",
        "  b = func(s-h)          #in order to simplify\n",
        "  c = func(s+(2*h))      #calculation expression\n",
        "  d = func(s-(2*h))\n",
        "  num = c - 2*a + 2*b -d #expression for numerator\n",
        "  den = 2*(h**3)         #denominator\n",
        "  result = num / den     #final calculation\n",
        "  return result\n",
        "\n",
        "print(approx(0.81,0.01)) #will print central difference formula approximation\n",
        "                         #of third derivative of cos(x) at x=0.81, with a\n",
        "                         #step size of 0.01"
      ],
      "metadata": {
        "colab": {
          "base_uri": "https://localhost:8080/"
        },
        "id": "9Llu86H-5Nwr",
        "outputId": "27034df5-8809-47c4-b67e-493f21907c4b"
      },
      "execution_count": 20,
      "outputs": [
        {
          "output_type": "stream",
          "name": "stdout",
          "text": [
            "0.7242690673869844\n"
          ]
        }
      ]
    },
    {
      "cell_type": "code",
      "source": [
        "# bisection\n",
        "import math       #for ease of using sin and pi\n",
        "tol = 1e-9    #small tolerance\n",
        "\n",
        "def fnc(x):\n",
        "  return math.sin(x) -x + 1.5*math.pi  #my function for theta\n",
        "\n",
        "def bisect(a,b):\n",
        "  while b-a>tol:       #loop keeps running until this condition no longer holds\n",
        "    c = (a+b)/2\n",
        "    if fnc(c)==0:      #if the root is found exactly\n",
        "        return c\n",
        "    if fnc(a)*fnc(c)<0:   #if a and c are on different sides of the root\n",
        "        b = c\n",
        "    else:                 #if a and c are on the same side of the root\n",
        "        a = c\n",
        "  return (b+a)/2          #returns bisection of a and b\n",
        "\n",
        "print(bisect(3.9, 4.1))  #suitably close a and b"
      ],
      "metadata": {
        "colab": {
          "base_uri": "https://localhost:8080/"
        },
        "id": "rZ84xlB3QpZc",
        "outputId": "e4e33346-4745-4fba-e32f-78f6133ca2e0"
      },
      "execution_count": 5,
      "outputs": [
        {
          "output_type": "stream",
          "name": "stdout",
          "text": [
            "3.973303847387433\n"
          ]
        }
      ]
    },
    {
      "cell_type": "code",
      "source": [
        "def bisect(f, a, b, tol):\n",
        "\n",
        "    \"\"\"\n",
        "    f: a function that takes a single argument\n",
        "    a: lower bound of the interval\n",
        "    b: upper bound of the interval\n",
        "    tol: tolerance for the stopping criterion\n",
        "    \"\"\"\n",
        "\n",
        "    # Bisection Method [By Bottom Science]\n",
        "\n",
        "    while (b-a) > tol:\n",
        "        c = (a+b) / 2\n",
        "        if f(c) == 0:\n",
        "            return c\n",
        "        elif f(a)*f(c) < 0:\n",
        "            b = c\n",
        "        else:\n",
        "            a = c\n",
        "    return (a+b)/2\n",
        "\n",
        "# Test\n",
        "def f(x):\n",
        "    return math.sin(x) -x +1.5*math.pi\n",
        "\n",
        "root = bisect(f, 3.9, 4.1, 1e-15)\n",
        "print(root)"
      ],
      "metadata": {
        "colab": {
          "base_uri": "https://localhost:8080/"
        },
        "id": "bJxngksZtT8j",
        "outputId": "96cf53bc-4359-4026-af2c-5225df163ce5"
      },
      "execution_count": 54,
      "outputs": [
        {
          "output_type": "stream",
          "name": "stdout",
          "text": [
            "3.9733038471695292\n"
          ]
        }
      ]
    }
  ]
}